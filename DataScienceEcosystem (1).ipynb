{
 "cells": [
  {
   "cell_type": "markdown",
   "id": "a9e5a2b2-d97c-42cf-8962-c374624dd729",
   "metadata": {},
   "source": [
    "<h1>Data Science Tools and Ecosystem<h1>"
   ]
  },
  {
   "cell_type": "markdown",
   "id": "0946888b-c40f-4280-82c2-05c1a5c8d872",
   "metadata": {},
   "source": [
    "In this notebook, Data Science Tools and Ecosystem are summarized"
   ]
  },
  {
   "cell_type": "markdown",
   "id": "5735af31-f7c9-49df-aa5b-d25983ea99ea",
   "metadata": {},
   "source": [
    "**Objectives:**\n",
    "\n",
    "- List popular languages that Data Scientists Use\n",
    "- Common libraries used by Data Scientist\n",
    "- Example of Arithmatic Expression\n",
    "- Create a table with a data science tools\n",
    "\n",
    "    \n",
    "    "
   ]
  },
  {
   "cell_type": "markdown",
   "id": "67991a78-6c40-4b3e-8f64-78b9bf483592",
   "metadata": {},
   "source": [
    "Some of the popular languages that Data Scientists use are:\n",
    "\n",
    "1) Python\n",
    "2) R\n",
    "3) SQL\n",
    "4) Julia\n",
    "    \n"
   ]
  },
  {
   "cell_type": "markdown",
   "id": "beb8a61d-b382-47ac-8d60-5b0b2b326948",
   "metadata": {},
   "source": [
    "Some of the commonly used libraries used by Data Scientists include:\n",
    "\n",
    "1) Panda\n",
    "2) NumPy\n",
    "3) TensorFlow\n",
    "4) Matplotlib"
   ]
  },
  {
   "cell_type": "markdown",
   "id": "800a26ad-f076-46dd-8e25-5175cfd18880",
   "metadata": {},
   "source": [
    "| *Data Science Tools* |\n",
    "|----------------------|\n",
    "| Tableau |\n",
    "| SAS |\n",
    "|Apache Spark |"
   ]
  },
  {
   "cell_type": "markdown",
   "id": "396ae577-381c-479f-b118-716024f129e9",
   "metadata": {},
   "source": [
    "<h3>Below are a few examples of evaluating arithmetic expressions in Python<h3>"
   ]
  },
  {
   "cell_type": "markdown",
   "id": "84265adb-f931-4445-a7a4-8a47cf7ccf83",
   "metadata": {},
   "source": [
    "Example number 1"
   ]
  },
  {
   "cell_type": "markdown",
   "id": "4e62eea6-9521-4bf7-a9ba-c5beed408880",
   "metadata": {
    "tags": []
   },
   "source": [
    "This a simple arithmetic expression to mutiply then add integers\n"
   ]
  },
  {
   "cell_type": "code",
   "execution_count": 2,
   "id": "da329966-3484-442c-8b19-9564d98361f0",
   "metadata": {
    "tags": []
   },
   "outputs": [
    {
     "data": {
      "text/plain": [
       "17"
      ]
     },
     "execution_count": 2,
     "metadata": {},
     "output_type": "execute_result"
    }
   ],
   "source": [
    "(3*4)+5"
   ]
  },
  {
   "cell_type": "markdown",
   "id": "d3226470-54c5-4f48-858d-bc498597f7e7",
   "metadata": {
    "tags": []
   },
   "source": [
    "Example Number 2"
   ]
  },
  {
   "cell_type": "markdown",
   "id": "2441d2a1-9eac-4122-aeaf-7dde79ff48c8",
   "metadata": {},
   "source": [
    "Write an expression that converts 200 minutes into hours"
   ]
  },
  {
   "cell_type": "code",
   "execution_count": 5,
   "id": "0f50552a-ae0f-46c7-bf83-75b2b3dfec9c",
   "metadata": {
    "tags": []
   },
   "outputs": [],
   "source": [
    "# formula (conversion of hour to minute): No of hours = number of minutes / 60\n",
    "# If 200 minutes"
   ]
  },
  {
   "cell_type": "code",
   "execution_count": 19,
   "id": "7105c143-1d8b-4e81-8083-56c439f9ecfe",
   "metadata": {
    "tags": []
   },
   "outputs": [
    {
     "name": "stdout",
     "output_type": "stream",
     "text": [
      "3.3333333333333335\n"
     ]
    }
   ],
   "source": [
    "# So 200 minute\n",
    "x = 200 / 60\n",
    "print (x)"
   ]
  },
  {
   "cell_type": "markdown",
   "id": "a0fe727b-dd3f-4b21-9ece-21f84183e899",
   "metadata": {},
   "source": [
    "3.3 hours"
   ]
  },
  {
   "cell_type": "markdown",
   "id": "08e1f826-d88b-40d4-ab68-88467e195aaf",
   "metadata": {},
   "source": [
    "<h3>Author:<h3>\n",
    "\n",
    "Abd Haziq"
   ]
  },
  {
   "cell_type": "code",
   "execution_count": null,
   "id": "7ed5faf2-2317-4fd5-a2d1-458de83d30f0",
   "metadata": {},
   "outputs": [],
   "source": []
  }
 ],
 "metadata": {
  "kernelspec": {
   "display_name": "Python",
   "language": "python",
   "name": "conda-env-python-py"
  },
  "language_info": {
   "codemirror_mode": {
    "name": "ipython",
    "version": 3
   },
   "file_extension": ".py",
   "mimetype": "text/x-python",
   "name": "python",
   "nbconvert_exporter": "python",
   "pygments_lexer": "ipython3",
   "version": "3.7.12"
  }
 },
 "nbformat": 4,
 "nbformat_minor": 5
}
